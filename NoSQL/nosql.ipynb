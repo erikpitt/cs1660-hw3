{
 "cells": [
  {
   "cell_type": "code",
   "execution_count": null,
   "metadata": {},
   "outputs": [],
   "source": [
    "import boto3"
   ]
  },
  {
   "cell_type": "code",
   "execution_count": null,
   "metadata": {},
   "outputs": [],
   "source": [
    "s3 = boto3.resource('s3',\n",
    "    aws_access_key_id='',\n",
    "    aws_secret_access_key=''\n",
    ")"
   ]
  },
  {
   "cell_type": "code",
   "execution_count": null,
   "metadata": {},
   "outputs": [],
   "source": [
    "try:\n",
    "    s3.create_bucket(Bucket='cs1660-hw3-bucket', CreateBucketConfiguration={\n",
    "        'LocationConstraint': 'us-west-2'})\n",
    "except Exception as e:\n",
    "    print(e)"
   ]
  },
  {
   "cell_type": "code",
   "execution_count": null,
   "metadata": {},
   "outputs": [],
   "source": [
    "bucket = s3.Bucket('cs1660-hw3-bucket')"
   ]
  },
  {
   "cell_type": "code",
   "execution_count": null,
   "metadata": {},
   "outputs": [],
   "source": [
    "bucket.Acl().put(ACL='public-read')"
   ]
  },
  {
   "cell_type": "code",
   "execution_count": null,
   "metadata": {},
   "outputs": [],
   "source": [
    "dyndb = boto3.resource('dynamodb',\n",
    "    region_name='us-west-2',\n",
    "    aws_access_key_id='',\n",
    "    aws_secret_access_key=''\n",
    ")"
   ]
  },
  {
   "cell_type": "code",
   "execution_count": null,
   "metadata": {},
   "outputs": [],
   "source": [
    "try:\n",
    "    table = dyndb.create_table(\n",
    "        TableName='DataTable',\n",
    "        KeySchema=[\n",
    "            {\n",
    "                'AttributeName': 'PartitionKey',\n",
    "                'KeyType': 'HASH'\n",
    "            },\n",
    "            {\n",
    "                'AttributeName': 'RowKey',\n",
    "                'KeyType': 'RANGE'\n",
    "            }\n",
    "        ],\n",
    "        AttributeDefinitions=[\n",
    "            {\n",
    "                'AttributeName': 'PartitionKey',\n",
    "                'AttributeType': 'S'\n",
    "            },\n",
    "            {\n",
    "                'AttributeName': 'RowKey',\n",
    "                'AttributeType': 'S'\n",
    "            },\n",
    "        ],\n",
    "        ProvisionedThroughput={\n",
    "            'ReadCapacityUnits': 5,\n",
    "            'WriteCapacityUnits': 5\n",
    "        }\n",
    ")\n",
    "except Exception as e:\n",
    "    print(e)\n",
    "    table = dyndb.Table(\"DataTable\")"
   ]
  },
  {
   "cell_type": "code",
   "execution_count": null,
   "metadata": {},
   "outputs": [],
   "source": [
    "table.meta.client.get_waiter('table_exists').wait(TableName='DataTable')"
   ]
  },
  {
   "cell_type": "code",
   "execution_count": null,
   "metadata": {},
   "outputs": [],
   "source": [
    "import csv"
   ]
  },
  {
   "cell_type": "code",
   "execution_count": null,
   "metadata": {},
   "outputs": [],
   "source": [
    "with open('experiments.csv', 'r') as csvfile:\n",
    "    csvf = csv.reader(csvfile, delimiter=',', quotechar='|')\n",
    "    next(csvf)# Skips the header row in the csv file\n",
    "    for item in csvf:\n",
    "        print(item)\n",
    "        body = open('datafiles/'+item[5], 'rb')\n",
    "        s3.Object('cs1660-hw3-bucket', item[5]).put(Body=body )\n",
    "        md = s3.Object('cs1660-hw3-bucket', item[5]).Acl().put(ACL='public-read')\n",
    "\n",
    "        url = \"https://s3-us-west-2.amazonaws.com/cs1660-hw3-bucket/\"+item[5]\n",
    "        metadata_item = {'PartitionKey': item[0], 'RowKey': item[1],\n",
    "            'temp': item[2], 'conductivity': item[3], 'concentration': item[4], 'url': url}\n",
    "        try:\n",
    "            table.put_item(Item=metadata_item)\n",
    "        except:\n",
    "            print(\"item may already be there or another failure\")"
   ]
  },
  {
   "cell_type": "code",
   "execution_count": null,
   "metadata": {},
   "outputs": [],
   "source": [
    "response = table.get_item(\n",
    "    Key={\n",
    "        'PartitionKey': 'experiment1',\n",
    "        'RowKey': '1'\n",
    "    }\n",
    ")\n",
    "item = response['Item']"
   ]
  },
  {
   "cell_type": "code",
   "execution_count": null,
   "metadata": {},
   "outputs": [],
   "source": [
    "print(item)"
   ]
  }
 ],
 "metadata": {
  "interpreter": {
   "hash": "452a40045df991f6fc614d61eab2c8a2b5b8a215bb3f2f4568ba3013f126389d"
  },
  "kernelspec": {
   "display_name": "Python 3.8.8 64-bit ('base': conda)",
   "name": "python3"
  },
  "language_info": {
   "codemirror_mode": {
    "name": "ipython",
    "version": 3
   },
   "file_extension": ".py",
   "mimetype": "text/x-python",
   "name": "python",
   "nbconvert_exporter": "python",
   "pygments_lexer": "ipython3",
   "version": "3.8.8"
  },
  "orig_nbformat": 4
 },
 "nbformat": 4,
 "nbformat_minor": 2
}
